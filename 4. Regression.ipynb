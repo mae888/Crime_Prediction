{
 "cells": [
  {
   "cell_type": "code",
   "execution_count": 1,
   "metadata": {},
   "outputs": [],
   "source": [
    "import pandas as pd\n",
    "import numpy as np\n",
    "import seaborn as sns\n",
    "import matplotlib.pyplot as plt\n",
    "from sklearn.model_selection import train_test_split\n",
    "from sklearn import metrics"
   ]
  },
  {
   "cell_type": "code",
   "execution_count": 2,
   "metadata": {},
   "outputs": [
    {
     "data": {
      "text/html": [
       "<div>\n",
       "<style scoped>\n",
       "    .dataframe tbody tr th:only-of-type {\n",
       "        vertical-align: middle;\n",
       "    }\n",
       "\n",
       "    .dataframe tbody tr th {\n",
       "        vertical-align: top;\n",
       "    }\n",
       "\n",
       "    .dataframe thead th {\n",
       "        text-align: right;\n",
       "    }\n",
       "</style>\n",
       "<table border=\"1\" class=\"dataframe\">\n",
       "  <thead>\n",
       "    <tr style=\"text-align: right;\">\n",
       "      <th></th>\n",
       "      <th>CrimeCode</th>\n",
       "      <th>Description</th>\n",
       "      <th>Post</th>\n",
       "      <th>District</th>\n",
       "      <th>Neighborhood</th>\n",
       "      <th>Location 1</th>\n",
       "      <th>Date</th>\n",
       "      <th>Year</th>\n",
       "      <th>Month</th>\n",
       "      <th>Day</th>\n",
       "      <th>vio_prop</th>\n",
       "      <th>weapon_used</th>\n",
       "      <th>vacation</th>\n",
       "      <th>StandardizedTime</th>\n",
       "      <th>Hour</th>\n",
       "      <th>Minute</th>\n",
       "    </tr>\n",
       "  </thead>\n",
       "  <tbody>\n",
       "    <tr>\n",
       "      <th>0</th>\n",
       "      <td>0</td>\n",
       "      <td>0</td>\n",
       "      <td>424.0</td>\n",
       "      <td>2</td>\n",
       "      <td>175</td>\n",
       "      <td>(39.3679000000, -76.5555900000)</td>\n",
       "      <td>2016-06-18</td>\n",
       "      <td>2016</td>\n",
       "      <td>6</td>\n",
       "      <td>18</td>\n",
       "      <td>1</td>\n",
       "      <td>1</td>\n",
       "      <td>True</td>\n",
       "      <td>00:33</td>\n",
       "      <td>0</td>\n",
       "      <td>33</td>\n",
       "    </tr>\n",
       "    <tr>\n",
       "      <th>1</th>\n",
       "      <td>0</td>\n",
       "      <td>1</td>\n",
       "      <td>232.0</td>\n",
       "      <td>5</td>\n",
       "      <td>32</td>\n",
       "      <td>(39.2831500000, -76.5783400000)</td>\n",
       "      <td>2016-06-18</td>\n",
       "      <td>2016</td>\n",
       "      <td>6</td>\n",
       "      <td>18</td>\n",
       "      <td>1</td>\n",
       "      <td>1</td>\n",
       "      <td>True</td>\n",
       "      <td>00:39</td>\n",
       "      <td>0</td>\n",
       "      <td>39</td>\n",
       "    </tr>\n",
       "    <tr>\n",
       "      <th>2</th>\n",
       "      <td>8</td>\n",
       "      <td>1</td>\n",
       "      <td>532.0</td>\n",
       "      <td>3</td>\n",
       "      <td>138</td>\n",
       "      <td>(39.3510400000, -76.6597600000)</td>\n",
       "      <td>2016-06-18</td>\n",
       "      <td>2016</td>\n",
       "      <td>6</td>\n",
       "      <td>18</td>\n",
       "      <td>1</td>\n",
       "      <td>1</td>\n",
       "      <td>True</td>\n",
       "      <td>15:00</td>\n",
       "      <td>15</td>\n",
       "      <td>0</td>\n",
       "    </tr>\n",
       "    <tr>\n",
       "      <th>3</th>\n",
       "      <td>6</td>\n",
       "      <td>1</td>\n",
       "      <td>221.0</td>\n",
       "      <td>5</td>\n",
       "      <td>151</td>\n",
       "      <td>(39.2955600000, -76.5844600000)</td>\n",
       "      <td>2016-06-18</td>\n",
       "      <td>2016</td>\n",
       "      <td>6</td>\n",
       "      <td>18</td>\n",
       "      <td>1</td>\n",
       "      <td>1</td>\n",
       "      <td>True</td>\n",
       "      <td>01:53</td>\n",
       "      <td>1</td>\n",
       "      <td>53</td>\n",
       "    </tr>\n",
       "    <tr>\n",
       "      <th>4</th>\n",
       "      <td>5</td>\n",
       "      <td>0</td>\n",
       "      <td>321.0</td>\n",
       "      <td>1</td>\n",
       "      <td>157</td>\n",
       "      <td>(39.3002700000, -76.5909700000)</td>\n",
       "      <td>2016-06-18</td>\n",
       "      <td>2016</td>\n",
       "      <td>6</td>\n",
       "      <td>18</td>\n",
       "      <td>0</td>\n",
       "      <td>0</td>\n",
       "      <td>True</td>\n",
       "      <td>02:05</td>\n",
       "      <td>2</td>\n",
       "      <td>5</td>\n",
       "    </tr>\n",
       "  </tbody>\n",
       "</table>\n",
       "</div>"
      ],
      "text/plain": [
       "   CrimeCode  Description   Post  District  Neighborhood   \n",
       "0          0            0  424.0         2           175  \\\n",
       "1          0            1  232.0         5            32   \n",
       "2          8            1  532.0         3           138   \n",
       "3          6            1  221.0         5           151   \n",
       "4          5            0  321.0         1           157   \n",
       "\n",
       "                        Location 1        Date  Year  Month  Day  vio_prop   \n",
       "0  (39.3679000000, -76.5555900000)  2016-06-18  2016      6   18         1  \\\n",
       "1  (39.2831500000, -76.5783400000)  2016-06-18  2016      6   18         1   \n",
       "2  (39.3510400000, -76.6597600000)  2016-06-18  2016      6   18         1   \n",
       "3  (39.2955600000, -76.5844600000)  2016-06-18  2016      6   18         1   \n",
       "4  (39.3002700000, -76.5909700000)  2016-06-18  2016      6   18         0   \n",
       "\n",
       "   weapon_used  vacation StandardizedTime  Hour  Minute  \n",
       "0            1      True            00:33     0      33  \n",
       "1            1      True            00:39     0      39  \n",
       "2            1      True            15:00    15       0  \n",
       "3            1      True            01:53     1      53  \n",
       "4            0      True            02:05     2       5  "
      ]
     },
     "execution_count": 2,
     "metadata": {},
     "output_type": "execute_result"
    }
   ],
   "source": [
    "df = pd.read_csv('Data/crime_cleaned_modeling.csv')\n",
    "df.head()"
   ]
  },
  {
   "cell_type": "code",
   "execution_count": 3,
   "metadata": {},
   "outputs": [
    {
     "data": {
      "text/html": [
       "<div>\n",
       "<style scoped>\n",
       "    .dataframe tbody tr th:only-of-type {\n",
       "        vertical-align: middle;\n",
       "    }\n",
       "\n",
       "    .dataframe tbody tr th {\n",
       "        vertical-align: top;\n",
       "    }\n",
       "\n",
       "    .dataframe thead th {\n",
       "        text-align: right;\n",
       "    }\n",
       "</style>\n",
       "<table border=\"1\" class=\"dataframe\">\n",
       "  <thead>\n",
       "    <tr style=\"text-align: right;\">\n",
       "      <th></th>\n",
       "      <th>CrimeCode</th>\n",
       "      <th>Description</th>\n",
       "      <th>Post</th>\n",
       "      <th>District</th>\n",
       "      <th>Neighborhood</th>\n",
       "      <th>Date</th>\n",
       "      <th>Year</th>\n",
       "      <th>Month</th>\n",
       "      <th>Day</th>\n",
       "      <th>vio_prop</th>\n",
       "      <th>weapon_used</th>\n",
       "      <th>vacation</th>\n",
       "      <th>StandardizedTime</th>\n",
       "      <th>Hour</th>\n",
       "      <th>Minute</th>\n",
       "    </tr>\n",
       "  </thead>\n",
       "  <tbody>\n",
       "    <tr>\n",
       "      <th>0</th>\n",
       "      <td>0</td>\n",
       "      <td>0</td>\n",
       "      <td>424.0</td>\n",
       "      <td>2</td>\n",
       "      <td>175</td>\n",
       "      <td>2016-06-18</td>\n",
       "      <td>2016</td>\n",
       "      <td>6</td>\n",
       "      <td>18</td>\n",
       "      <td>1</td>\n",
       "      <td>1</td>\n",
       "      <td>True</td>\n",
       "      <td>00:33</td>\n",
       "      <td>0</td>\n",
       "      <td>33</td>\n",
       "    </tr>\n",
       "    <tr>\n",
       "      <th>1</th>\n",
       "      <td>0</td>\n",
       "      <td>1</td>\n",
       "      <td>232.0</td>\n",
       "      <td>5</td>\n",
       "      <td>32</td>\n",
       "      <td>2016-06-18</td>\n",
       "      <td>2016</td>\n",
       "      <td>6</td>\n",
       "      <td>18</td>\n",
       "      <td>1</td>\n",
       "      <td>1</td>\n",
       "      <td>True</td>\n",
       "      <td>00:39</td>\n",
       "      <td>0</td>\n",
       "      <td>39</td>\n",
       "    </tr>\n",
       "    <tr>\n",
       "      <th>2</th>\n",
       "      <td>8</td>\n",
       "      <td>1</td>\n",
       "      <td>532.0</td>\n",
       "      <td>3</td>\n",
       "      <td>138</td>\n",
       "      <td>2016-06-18</td>\n",
       "      <td>2016</td>\n",
       "      <td>6</td>\n",
       "      <td>18</td>\n",
       "      <td>1</td>\n",
       "      <td>1</td>\n",
       "      <td>True</td>\n",
       "      <td>15:00</td>\n",
       "      <td>15</td>\n",
       "      <td>0</td>\n",
       "    </tr>\n",
       "    <tr>\n",
       "      <th>3</th>\n",
       "      <td>6</td>\n",
       "      <td>1</td>\n",
       "      <td>221.0</td>\n",
       "      <td>5</td>\n",
       "      <td>151</td>\n",
       "      <td>2016-06-18</td>\n",
       "      <td>2016</td>\n",
       "      <td>6</td>\n",
       "      <td>18</td>\n",
       "      <td>1</td>\n",
       "      <td>1</td>\n",
       "      <td>True</td>\n",
       "      <td>01:53</td>\n",
       "      <td>1</td>\n",
       "      <td>53</td>\n",
       "    </tr>\n",
       "    <tr>\n",
       "      <th>4</th>\n",
       "      <td>5</td>\n",
       "      <td>0</td>\n",
       "      <td>321.0</td>\n",
       "      <td>1</td>\n",
       "      <td>157</td>\n",
       "      <td>2016-06-18</td>\n",
       "      <td>2016</td>\n",
       "      <td>6</td>\n",
       "      <td>18</td>\n",
       "      <td>0</td>\n",
       "      <td>0</td>\n",
       "      <td>True</td>\n",
       "      <td>02:05</td>\n",
       "      <td>2</td>\n",
       "      <td>5</td>\n",
       "    </tr>\n",
       "  </tbody>\n",
       "</table>\n",
       "</div>"
      ],
      "text/plain": [
       "   CrimeCode  Description   Post  District  Neighborhood        Date  Year   \n",
       "0          0            0  424.0         2           175  2016-06-18  2016  \\\n",
       "1          0            1  232.0         5            32  2016-06-18  2016   \n",
       "2          8            1  532.0         3           138  2016-06-18  2016   \n",
       "3          6            1  221.0         5           151  2016-06-18  2016   \n",
       "4          5            0  321.0         1           157  2016-06-18  2016   \n",
       "\n",
       "   Month  Day  vio_prop  weapon_used  vacation StandardizedTime  Hour  Minute  \n",
       "0      6   18         1            1      True            00:33     0      33  \n",
       "1      6   18         1            1      True            00:39     0      39  \n",
       "2      6   18         1            1      True            15:00    15       0  \n",
       "3      6   18         1            1      True            01:53     1      53  \n",
       "4      6   18         0            0      True            02:05     2       5  "
      ]
     },
     "execution_count": 3,
     "metadata": {},
     "output_type": "execute_result"
    }
   ],
   "source": [
    "df.drop(['Location 1'], axis=1, inplace=True)\n",
    "df.head()"
   ]
  },
  {
   "cell_type": "markdown",
   "metadata": {},
   "source": [
    "Creating new Columns "
   ]
  },
  {
   "cell_type": "code",
   "execution_count": 4,
   "metadata": {},
   "outputs": [
    {
     "data": {
      "text/html": [
       "<div>\n",
       "<style scoped>\n",
       "    .dataframe tbody tr th:only-of-type {\n",
       "        vertical-align: middle;\n",
       "    }\n",
       "\n",
       "    .dataframe tbody tr th {\n",
       "        vertical-align: top;\n",
       "    }\n",
       "\n",
       "    .dataframe thead th {\n",
       "        text-align: right;\n",
       "    }\n",
       "</style>\n",
       "<table border=\"1\" class=\"dataframe\">\n",
       "  <thead>\n",
       "    <tr style=\"text-align: right;\">\n",
       "      <th></th>\n",
       "      <th>CrimeCode</th>\n",
       "      <th>Description</th>\n",
       "      <th>Post</th>\n",
       "      <th>District</th>\n",
       "      <th>Neighborhood</th>\n",
       "      <th>Date</th>\n",
       "      <th>Year</th>\n",
       "      <th>Month</th>\n",
       "      <th>Day</th>\n",
       "      <th>vio_prop</th>\n",
       "      <th>weapon_used</th>\n",
       "      <th>vacation</th>\n",
       "      <th>StandardizedTime</th>\n",
       "      <th>Hour</th>\n",
       "      <th>Minute</th>\n",
       "      <th>crime_count</th>\n",
       "    </tr>\n",
       "  </thead>\n",
       "  <tbody>\n",
       "    <tr>\n",
       "      <th>0</th>\n",
       "      <td>0</td>\n",
       "      <td>0</td>\n",
       "      <td>424.0</td>\n",
       "      <td>2</td>\n",
       "      <td>175</td>\n",
       "      <td>2016-06-18</td>\n",
       "      <td>2016</td>\n",
       "      <td>6</td>\n",
       "      <td>18</td>\n",
       "      <td>1</td>\n",
       "      <td>1</td>\n",
       "      <td>True</td>\n",
       "      <td>00:33</td>\n",
       "      <td>0</td>\n",
       "      <td>33</td>\n",
       "      <td>10</td>\n",
       "    </tr>\n",
       "    <tr>\n",
       "      <th>1</th>\n",
       "      <td>0</td>\n",
       "      <td>1</td>\n",
       "      <td>232.0</td>\n",
       "      <td>5</td>\n",
       "      <td>32</td>\n",
       "      <td>2016-06-18</td>\n",
       "      <td>2016</td>\n",
       "      <td>6</td>\n",
       "      <td>18</td>\n",
       "      <td>1</td>\n",
       "      <td>1</td>\n",
       "      <td>True</td>\n",
       "      <td>00:39</td>\n",
       "      <td>0</td>\n",
       "      <td>39</td>\n",
       "      <td>13</td>\n",
       "    </tr>\n",
       "    <tr>\n",
       "      <th>2</th>\n",
       "      <td>8</td>\n",
       "      <td>1</td>\n",
       "      <td>532.0</td>\n",
       "      <td>3</td>\n",
       "      <td>138</td>\n",
       "      <td>2016-06-18</td>\n",
       "      <td>2016</td>\n",
       "      <td>6</td>\n",
       "      <td>18</td>\n",
       "      <td>1</td>\n",
       "      <td>1</td>\n",
       "      <td>True</td>\n",
       "      <td>15:00</td>\n",
       "      <td>15</td>\n",
       "      <td>0</td>\n",
       "      <td>8</td>\n",
       "    </tr>\n",
       "    <tr>\n",
       "      <th>3</th>\n",
       "      <td>6</td>\n",
       "      <td>1</td>\n",
       "      <td>221.0</td>\n",
       "      <td>5</td>\n",
       "      <td>151</td>\n",
       "      <td>2016-06-18</td>\n",
       "      <td>2016</td>\n",
       "      <td>6</td>\n",
       "      <td>18</td>\n",
       "      <td>1</td>\n",
       "      <td>1</td>\n",
       "      <td>True</td>\n",
       "      <td>01:53</td>\n",
       "      <td>1</td>\n",
       "      <td>53</td>\n",
       "      <td>13</td>\n",
       "    </tr>\n",
       "    <tr>\n",
       "      <th>4</th>\n",
       "      <td>5</td>\n",
       "      <td>0</td>\n",
       "      <td>321.0</td>\n",
       "      <td>1</td>\n",
       "      <td>157</td>\n",
       "      <td>2016-06-18</td>\n",
       "      <td>2016</td>\n",
       "      <td>6</td>\n",
       "      <td>18</td>\n",
       "      <td>0</td>\n",
       "      <td>0</td>\n",
       "      <td>True</td>\n",
       "      <td>02:05</td>\n",
       "      <td>2</td>\n",
       "      <td>5</td>\n",
       "      <td>9</td>\n",
       "    </tr>\n",
       "  </tbody>\n",
       "</table>\n",
       "</div>"
      ],
      "text/plain": [
       "   CrimeCode  Description   Post  District  Neighborhood        Date  Year   \n",
       "0          0            0  424.0         2           175  2016-06-18  2016  \\\n",
       "1          0            1  232.0         5            32  2016-06-18  2016   \n",
       "2          8            1  532.0         3           138  2016-06-18  2016   \n",
       "3          6            1  221.0         5           151  2016-06-18  2016   \n",
       "4          5            0  321.0         1           157  2016-06-18  2016   \n",
       "\n",
       "   Month  Day  vio_prop  weapon_used  vacation StandardizedTime  Hour  Minute   \n",
       "0      6   18         1            1      True            00:33     0      33  \\\n",
       "1      6   18         1            1      True            00:39     0      39   \n",
       "2      6   18         1            1      True            15:00    15       0   \n",
       "3      6   18         1            1      True            01:53     1      53   \n",
       "4      6   18         0            0      True            02:05     2       5   \n",
       "\n",
       "   crime_count  \n",
       "0           10  \n",
       "1           13  \n",
       "2            8  \n",
       "3           13  \n",
       "4            9  "
      ]
     },
     "execution_count": 4,
     "metadata": {},
     "output_type": "execute_result"
    }
   ],
   "source": [
    "# creat a new column for the number of times a crime has been committed in a district per day\n",
    "df['crime_count'] = df.groupby(['District', 'Date'])['CrimeCode'].transform('count')\n",
    "df.head()"
   ]
  },
  {
   "cell_type": "markdown",
   "metadata": {},
   "source": [
    "dropping all features associated with crimeCode classification since this is a different approach in which crime-specific data does not mattar"
   ]
  },
  {
   "cell_type": "code",
   "execution_count": 5,
   "metadata": {},
   "outputs": [],
   "source": [
    "df.drop(['Date', 'StandardizedTime'], axis=1, inplace=True)"
   ]
  },
  {
   "cell_type": "code",
   "execution_count": 6,
   "metadata": {},
   "outputs": [],
   "source": [
    "df.drop(['CrimeCode'], axis=1, inplace=True)"
   ]
  },
  {
   "cell_type": "code",
   "execution_count": 7,
   "metadata": {},
   "outputs": [],
   "source": [
    "df.drop(['weapon_used', 'vio_prop'], axis=1, inplace=True)"
   ]
  },
  {
   "cell_type": "code",
   "execution_count": 9,
   "metadata": {},
   "outputs": [],
   "source": [
    "df.drop(['Post', 'Description'], axis=1, inplace=True)    "
   ]
  },
  {
   "cell_type": "code",
   "execution_count": 8,
   "metadata": {},
   "outputs": [],
   "source": [
    "df.drop(['Hour','Minute'], axis=1, inplace=True)"
   ]
  },
  {
   "cell_type": "code",
   "execution_count": 10,
   "metadata": {},
   "outputs": [],
   "source": [
    "df.drop(['Neighborhood'], axis=1, inplace=True)"
   ]
  },
  {
   "cell_type": "code",
   "execution_count": 11,
   "metadata": {},
   "outputs": [
    {
     "data": {
      "text/html": [
       "<div>\n",
       "<style scoped>\n",
       "    .dataframe tbody tr th:only-of-type {\n",
       "        vertical-align: middle;\n",
       "    }\n",
       "\n",
       "    .dataframe tbody tr th {\n",
       "        vertical-align: top;\n",
       "    }\n",
       "\n",
       "    .dataframe thead th {\n",
       "        text-align: right;\n",
       "    }\n",
       "</style>\n",
       "<table border=\"1\" class=\"dataframe\">\n",
       "  <thead>\n",
       "    <tr style=\"text-align: right;\">\n",
       "      <th></th>\n",
       "      <th>District</th>\n",
       "      <th>Year</th>\n",
       "      <th>Month</th>\n",
       "      <th>Day</th>\n",
       "      <th>vacation</th>\n",
       "      <th>crime_count</th>\n",
       "    </tr>\n",
       "  </thead>\n",
       "  <tbody>\n",
       "    <tr>\n",
       "      <th>0</th>\n",
       "      <td>2</td>\n",
       "      <td>2016</td>\n",
       "      <td>6</td>\n",
       "      <td>18</td>\n",
       "      <td>True</td>\n",
       "      <td>10</td>\n",
       "    </tr>\n",
       "    <tr>\n",
       "      <th>1</th>\n",
       "      <td>5</td>\n",
       "      <td>2016</td>\n",
       "      <td>6</td>\n",
       "      <td>18</td>\n",
       "      <td>True</td>\n",
       "      <td>13</td>\n",
       "    </tr>\n",
       "    <tr>\n",
       "      <th>2</th>\n",
       "      <td>3</td>\n",
       "      <td>2016</td>\n",
       "      <td>6</td>\n",
       "      <td>18</td>\n",
       "      <td>True</td>\n",
       "      <td>8</td>\n",
       "    </tr>\n",
       "    <tr>\n",
       "      <th>3</th>\n",
       "      <td>5</td>\n",
       "      <td>2016</td>\n",
       "      <td>6</td>\n",
       "      <td>18</td>\n",
       "      <td>True</td>\n",
       "      <td>13</td>\n",
       "    </tr>\n",
       "    <tr>\n",
       "      <th>4</th>\n",
       "      <td>1</td>\n",
       "      <td>2016</td>\n",
       "      <td>6</td>\n",
       "      <td>18</td>\n",
       "      <td>True</td>\n",
       "      <td>9</td>\n",
       "    </tr>\n",
       "  </tbody>\n",
       "</table>\n",
       "</div>"
      ],
      "text/plain": [
       "   District  Year  Month  Day  vacation  crime_count\n",
       "0         2  2016      6   18      True           10\n",
       "1         5  2016      6   18      True           13\n",
       "2         3  2016      6   18      True            8\n",
       "3         5  2016      6   18      True           13\n",
       "4         1  2016      6   18      True            9"
      ]
     },
     "execution_count": 11,
     "metadata": {},
     "output_type": "execute_result"
    }
   ],
   "source": [
    "df.head()"
   ]
  },
  {
   "cell_type": "code",
   "execution_count": 12,
   "metadata": {},
   "outputs": [
    {
     "data": {
      "image/png": "[encoded data removed]",
      "text/plain": [
       "<Figure size 2000x1000 with 2 Axes>"
      ]
     },
     "metadata": {},
     "output_type": "display_data"
    }
   ],
   "source": [
    "#Using Pearson Correlation\n",
    "plt.figure(figsize=(20,10))\n",
    "cor = df.corr()\n",
    "sns.heatmap(cor, annot=True, cmap=plt.cm.Reds)\n",
    "plt.show()"
   ]
  },
  {
   "cell_type": "markdown",
   "metadata": {},
   "source": [
    "Label encoding the year feature since its values will dominate the rest of the features in distance calcualtions\n"
   ]
  },
  {
   "cell_type": "code",
   "execution_count": 13,
   "metadata": {},
   "outputs": [
    {
     "name": "stdout",
     "output_type": "stream",
     "text": [
      "Mapping for 'Year': {2011: 0, 2012: 1, 2013: 2, 2014: 3, 2015: 4, 2016: 5}\n"
     ]
    }
   ],
   "source": [
    "from sklearn.preprocessing import LabelEncoder\n",
    "\n",
    "label_encoders = {}\n",
    "\n",
    "categorical_cols = ['Year']\n",
    "\n",
    "for col in categorical_cols:\n",
    "    le = LabelEncoder()\n",
    "    df[col] = le.fit_transform(df[col])\n",
    "    \n",
    "    label_encoders[col] = le\n",
    "    \n",
    "for col, le in label_encoders.items():\n",
    "    classes = le.classes_\n",
    "    encoded_values = le.transform(classes)\n",
    "\n",
    "\n",
    "    mapping = dict(zip(classes, encoded_values))\n",
    "    print(f\"Mapping for '{col}': {mapping}\")"
   ]
  },
  {
   "cell_type": "markdown",
   "metadata": {},
   "source": [
    "Dropping all instances of 2016"
   ]
  },
  {
   "cell_type": "code",
   "execution_count": 14,
   "metadata": {},
   "outputs": [],
   "source": [
    "df = df[df.Year != 5]"
   ]
  },
  {
   "cell_type": "code",
   "execution_count": 15,
   "metadata": {},
   "outputs": [
    {
     "data": {
      "text/plain": [
       "Year\n",
       "0    50651\n",
       "1    49561\n",
       "2    49542\n",
       "4    48711\n",
       "3    45958\n",
       "Name: count, dtype: int64"
      ]
     },
     "execution_count": 15,
     "metadata": {},
     "output_type": "execute_result"
    }
   ],
   "source": [
    "df['Year'].value_counts()"
   ]
  },
  {
   "cell_type": "markdown",
   "metadata": {},
   "source": [
    "Predicting the Total Crime per day per disrict"
   ]
  },
  {
   "cell_type": "code",
   "execution_count": 16,
   "metadata": {},
   "outputs": [
    {
     "data": {
      "text/html": [
       "<div>\n",
       "<style scoped>\n",
       "    .dataframe tbody tr th:only-of-type {\n",
       "        vertical-align: middle;\n",
       "    }\n",
       "\n",
       "    .dataframe tbody tr th {\n",
       "        vertical-align: top;\n",
       "    }\n",
       "\n",
       "    .dataframe thead th {\n",
       "        text-align: right;\n",
       "    }\n",
       "</style>\n",
       "<table border=\"1\" class=\"dataframe\">\n",
       "  <thead>\n",
       "    <tr style=\"text-align: right;\">\n",
       "      <th></th>\n",
       "      <th>District</th>\n",
       "      <th>Year</th>\n",
       "      <th>Month</th>\n",
       "      <th>Day</th>\n",
       "      <th>vacation</th>\n",
       "      <th>crime_count</th>\n",
       "    </tr>\n",
       "  </thead>\n",
       "  <tbody>\n",
       "    <tr>\n",
       "      <th>20073</th>\n",
       "      <td>6</td>\n",
       "      <td>4</td>\n",
       "      <td>12</td>\n",
       "      <td>31</td>\n",
       "      <td>False</td>\n",
       "      <td>11</td>\n",
       "    </tr>\n",
       "    <tr>\n",
       "      <th>20074</th>\n",
       "      <td>1</td>\n",
       "      <td>4</td>\n",
       "      <td>12</td>\n",
       "      <td>31</td>\n",
       "      <td>False</td>\n",
       "      <td>10</td>\n",
       "    </tr>\n",
       "    <tr>\n",
       "      <th>20075</th>\n",
       "      <td>6</td>\n",
       "      <td>4</td>\n",
       "      <td>12</td>\n",
       "      <td>31</td>\n",
       "      <td>False</td>\n",
       "      <td>11</td>\n",
       "    </tr>\n",
       "    <tr>\n",
       "      <th>20076</th>\n",
       "      <td>7</td>\n",
       "      <td>4</td>\n",
       "      <td>12</td>\n",
       "      <td>31</td>\n",
       "      <td>False</td>\n",
       "      <td>6</td>\n",
       "    </tr>\n",
       "    <tr>\n",
       "      <th>20077</th>\n",
       "      <td>4</td>\n",
       "      <td>4</td>\n",
       "      <td>12</td>\n",
       "      <td>31</td>\n",
       "      <td>False</td>\n",
       "      <td>14</td>\n",
       "    </tr>\n",
       "  </tbody>\n",
       "</table>\n",
       "</div>"
      ],
      "text/plain": [
       "       District  Year  Month  Day  vacation  crime_count\n",
       "20073         6     4     12   31     False           11\n",
       "20074         1     4     12   31     False           10\n",
       "20075         6     4     12   31     False           11\n",
       "20076         7     4     12   31     False            6\n",
       "20077         4     4     12   31     False           14"
      ]
     },
     "execution_count": 16,
     "metadata": {},
     "output_type": "execute_result"
    }
   ],
   "source": [
    "df.head()"
   ]
  },
  {
   "cell_type": "code",
   "execution_count": 17,
   "metadata": {},
   "outputs": [
    {
     "name": "stdout",
     "output_type": "stream",
     "text": [
      "Full Features:  ['District', 'Year', 'Month', 'Day', 'vacation']\n"
     ]
    }
   ],
   "source": [
    "Features = ['District', 'Year', 'Month', 'Day', 'vacation']\n",
    "print('Full Features: ', Features)"
   ]
  },
  {
   "cell_type": "code",
   "execution_count": 18,
   "metadata": {},
   "outputs": [
    {
     "name": "stdout",
     "output_type": "stream",
     "text": [
      "Target:  ['crime_count']\n"
     ]
    }
   ],
   "source": [
    "Target = ['crime_count']\n",
    "print('Target: ', Target)"
   ]
  },
  {
   "cell_type": "code",
   "execution_count": 19,
   "metadata": {},
   "outputs": [
    {
     "name": "stdout",
     "output_type": "stream",
     "text": [
      "<class 'pandas.core.frame.DataFrame'>\n",
      "Index: 244423 entries, 20073 to 264495\n",
      "Data columns (total 6 columns):\n",
      " #   Column       Non-Null Count   Dtype\n",
      "---  ------       --------------   -----\n",
      " 0   District     244423 non-null  int64\n",
      " 1   Year         244423 non-null  int64\n",
      " 2   Month        244423 non-null  int64\n",
      " 3   Day          244423 non-null  int64\n",
      " 4   vacation     244423 non-null  bool \n",
      " 5   crime_count  244423 non-null  int64\n",
      "dtypes: bool(1), int64(5)\n",
      "memory usage: 11.4 MB\n"
     ]
    }
   ],
   "source": [
    "df.info()   "
   ]
  },
  {
   "cell_type": "code",
   "execution_count": 20,
   "metadata": {},
   "outputs": [
    {
     "name": "stdout",
     "output_type": "stream",
     "text": [
      "<class 'pandas.core.frame.DataFrame'>\n",
      "Index: 16485 entries, 20073 to 264336\n",
      "Data columns (total 6 columns):\n",
      " #   Column       Non-Null Count  Dtype\n",
      "---  ------       --------------  -----\n",
      " 0   District     16485 non-null  int64\n",
      " 1   Year         16485 non-null  int64\n",
      " 2   Month        16485 non-null  int64\n",
      " 3   Day          16485 non-null  int64\n",
      " 4   vacation     16485 non-null  bool \n",
      " 5   crime_count  16485 non-null  int64\n",
      "dtypes: bool(1), int64(5)\n",
      "memory usage: 788.8 KB\n"
     ]
    }
   ],
   "source": [
    "# Dropping all dubplicates\n",
    "df.drop_duplicates(inplace=True)\n",
    "df.info()"
   ]
  },
  {
   "cell_type": "code",
   "execution_count": 21,
   "metadata": {},
   "outputs": [
    {
     "name": "stdout",
     "output_type": "stream",
     "text": [
      "Feature Set Used    :  ['District', 'Year', 'Month', 'Day', 'vacation']\n",
      "Target Class        :  ['crime_count']\n",
      "Training Features Set Size :  (13188, 5)\n",
      "Training Target Set Size   :  (13188, 1)\n",
      "Test Features Set Size     :  (3297, 5)\n",
      "Test Target Set Size       :  (3297, 1)\n"
     ]
    }
   ],
   "source": [
    "train_set, test_set = train_test_split(df, \n",
    "                                       test_size=0.2, \n",
    "                                       train_size=0.8, \n",
    "                                       random_state=3)\n",
    "\n",
    "train_features = train_set[Features]    # Features for training\n",
    "train_target = train_set[Target]        # Target variable for training\n",
    "test_features = test_set[Features]      # Features for testing\n",
    "test_target = test_set[Target]          # Target variable for testing\n",
    "\n",
    "print('Feature Set Used    : ', Features)\n",
    "print('Target Class        : ', Target)\n",
    "print('Training Features Set Size : ', train_features.shape)\n",
    "print('Training Target Set Size   : ', train_target.shape)\n",
    "print('Test Features Set Size     : ', test_features.shape)\n",
    "print('Test Target Set Size       : ', test_target.shape)"
   ]
  },
  {
   "cell_type": "markdown",
   "metadata": {},
   "source": [
    "baseline model - provides a baseline model performance using the mean value of the target variable from the training set, which is a common approach for establishing a basic benchmark for regression tasks."
   ]
  },
  {
   "cell_type": "code",
   "execution_count": 22,
   "metadata": {},
   "outputs": [
    {
     "name": "stdout",
     "output_type": "stream",
     "text": [
      "Baseline R^2 Score: -0.014925074365019775\n",
      "Baseline Mean Absolute Error: 4.655141037306643\n",
      "Baseline Mean Squared Error: 36.21352744919624\n",
      "Baseline Root Mean Squared Error: 6.017767646660698\n"
     ]
    }
   ],
   "source": [
    "from sklearn.metrics import mean_squared_error\n",
    "from sklearn.metrics import r2_score, mean_absolute_error\n",
    "\n",
    "mean_total_crimes = train_target.mean()\n",
    "\n",
    "# Creating an array of predictions based on the mean value, matching the length of the test set\n",
    "baseline_predictions = np.full_like(test_target, fill_value=mean_total_crimes)\n",
    "\n",
    "# Calculating the Mean Squared Error and Root Mean Squared Error for the baseline\n",
    "baseline_mse = mean_squared_error(test_target, baseline_predictions)\n",
    "baseline_rmse = np.sqrt(baseline_mse)\n",
    "baseline_r2 = r2_score(test_target, baseline_predictions)\n",
    "baseline_mae = mean_absolute_error(test_target, baseline_predictions)\n",
    "\n",
    "\n",
    "# Printing the baseline errors\n",
    "print(f\"Baseline R^2 Score: {baseline_r2}\")\n",
    "print(f\"Baseline Mean Absolute Error: {baseline_mae}\")\n",
    "print(f\"Baseline Mean Squared Error: {baseline_mse}\")\n",
    "print(f\"Baseline Root Mean Squared Error: {baseline_rmse}\")"
   ]
  },
  {
   "cell_type": "markdown",
   "metadata": {},
   "source": [
    "Simple linear regression "
   ]
  },
  {
   "cell_type": "code",
   "execution_count": 23,
   "metadata": {},
   "outputs": [
    {
     "name": "stdout",
     "output_type": "stream",
     "text": [
      "Linear Regression Mean Squared Error: 33.72403297302196\n",
      "Linear Regression Root Mean Squared Error: 5.807239703423819\n",
      "Linear Regression R^2 Score: 0.05484582464246035\n",
      "Linear Regression Mean Absolute Error: 4.544624205738297\n"
     ]
    }
   ],
   "source": [
    "from sklearn.linear_model import LinearRegression\n",
    "from sklearn.metrics import mean_squared_error\n",
    "from sklearn.metrics import r2_score, mean_absolute_error\n",
    "\n",
    "lr = LinearRegression()\n",
    "lr.fit(train_features, train_target)\n",
    "\n",
    "y_pred = lr.predict(test_features)\n",
    "\n",
    "mse = mean_squared_error(test_target, y_pred)\n",
    "rmse = np.sqrt(mse)\n",
    "lr_r2 = r2_score(test_target, y_pred)\n",
    "lr_mae = mean_absolute_error(test_target, y_pred)\n",
    "\n",
    "print(f\"Linear Regression Mean Squared Error: {mse}\")\n",
    "print(f\"Linear Regression Root Mean Squared Error: {rmse}\")\n",
    "print(f\"Linear Regression R^2 Score: {lr_r2}\")\n",
    "print(f\"Linear Regression Mean Absolute Error: {lr_mae}\")"
   ]
  },
  {
   "cell_type": "markdown",
   "metadata": {},
   "source": [
    "XGBoost regression"
   ]
  },
  {
   "cell_type": "code",
   "execution_count": 24,
   "metadata": {},
   "outputs": [
    {
     "name": "stdout",
     "output_type": "stream",
     "text": [
      "R^2 Score on Training Data: 0.5907867800186899\n",
      "Mean Absolute Error on Training Data: 3.0553028226765377\n",
      "XGBoost Mean Squared Error: 15.396923796577882\n",
      "XGBoost Root Mean Squared Error: 3.9238914098860946\n"
     ]
    }
   ],
   "source": [
    "from xgboost import XGBRegressor\n",
    "from sklearn.metrics import r2_score, mean_absolute_error\n",
    "from sklearn.metrics import mean_squared_error\n",
    "\n",
    "# Initialize the XGBoost Regressor model\n",
    "model = XGBRegressor()\n",
    "\n",
    "# Fit the model to the training data\n",
    "model.fit(train_features, train_target)\n",
    "\n",
    "# Predict on training data\n",
    "training_data_prediction = model.predict(train_features)\n",
    "\n",
    "# Calculate R^2 Score and Mean Absolute Error on training data\n",
    "r2 = r2_score(train_target, training_data_prediction)\n",
    "mae = mean_absolute_error(train_target, training_data_prediction)\n",
    "xgb_mse = mean_squared_error(train_target, training_data_prediction)\n",
    "xgb_rmse = np.sqrt(xgb_mse)\n",
    "\n",
    "# Print the metrics\n",
    "print(f\"R^2 Score on Training Data: {r2}\")\n",
    "print(f\"Mean Absolute Error on Training Data: {mae}\")\n",
    "print(f\"XGBoost Mean Squared Error: {xgb_mse}\")\n",
    "print(f\"XGBoost Root Mean Squared Error: {xgb_rmse}\")"
   ]
  },
  {
   "cell_type": "code",
   "execution_count": 25,
   "metadata": {},
   "outputs": [
    {
     "name": "stdout",
     "output_type": "stream",
     "text": [
      "R^2 Score on Testing Data: 0.38490199294211025\n",
      "Mean Absolute Error on Testing Data: 3.6633835878988124\n",
      "XGBoost Mean Squared Error: 21.94730342678044\n",
      "XGBoost Root Mean Squared Error: 4.684794918326782\n"
     ]
    }
   ],
   "source": [
    "from xgboost import XGBRegressor\n",
    "from sklearn.metrics import r2_score, mean_absolute_error\n",
    "\n",
    "# Initialize and train the XGBoost Regressor model\n",
    "model = XGBRegressor()\n",
    "model.fit(train_features, train_target)\n",
    "\n",
    "# Predict on testing data\n",
    "testing_data_prediction = model.predict(test_features)\n",
    "\n",
    "# Calculate R^2 Score and Mean Absolute Error on testing data\n",
    "r2_test = r2_score(test_target, testing_data_prediction)\n",
    "mae_test = mean_absolute_error(test_target, testing_data_prediction)\n",
    "xgb_mse = mean_squared_error(test_target, testing_data_prediction)\n",
    "xgb_rmse = np.sqrt(xgb_mse)\n",
    "\n",
    "\n",
    "# Print the metrics for the test data\n",
    "print(f\"R^2 Score on Testing Data: {r2_test}\")\n",
    "print(f\"Mean Absolute Error on Testing Data: {mae_test}\")\n",
    "print(f\"XGBoost Mean Squared Error: {xgb_mse}\")\n",
    "print(f\"XGBoost Root Mean Squared Error: {xgb_rmse}\")"
   ]
  },
  {
   "cell_type": "markdown",
   "metadata": {},
   "source": [
    "5-fold cross-validation on a RandomForestRegressor"
   ]
  },
  {
   "cell_type": "code",
   "execution_count": 26,
   "metadata": {},
   "outputs": [
    {
     "name": "stderr",
     "output_type": "stream",
     "text": [
      "C:\\Users\\acer\\AppData\\Local\\Packages\\PythonSoftwareFoundation.Python.3.10_qbz5n2kfra8p0\\LocalCache\\local-packages\\Python310\\site-packages\\sklearn\\base.py:1151: DataConversionWarning: A column-vector y was passed when a 1d array was expected. Please change the shape of y to (n_samples,), for example using ravel().\n",
      "  return fit_method(estimator, *args, **kwargs)\n",
      "C:\\Users\\acer\\AppData\\Local\\Packages\\PythonSoftwareFoundation.Python.3.10_qbz5n2kfra8p0\\LocalCache\\local-packages\\Python310\\site-packages\\sklearn\\base.py:1151: DataConversionWarning: A column-vector y was passed when a 1d array was expected. Please change the shape of y to (n_samples,), for example using ravel().\n",
      "  return fit_method(estimator, *args, **kwargs)\n",
      "C:\\Users\\acer\\AppData\\Local\\Packages\\PythonSoftwareFoundation.Python.3.10_qbz5n2kfra8p0\\LocalCache\\local-packages\\Python310\\site-packages\\sklearn\\base.py:1151: DataConversionWarning: A column-vector y was passed when a 1d array was expected. Please change the shape of y to (n_samples,), for example using ravel().\n",
      "  return fit_method(estimator, *args, **kwargs)\n",
      "C:\\Users\\acer\\AppData\\Local\\Packages\\PythonSoftwareFoundation.Python.3.10_qbz5n2kfra8p0\\LocalCache\\local-packages\\Python310\\site-packages\\sklearn\\base.py:1151: DataConversionWarning: A column-vector y was passed when a 1d array was expected. Please change the shape of y to (n_samples,), for example using ravel().\n",
      "  return fit_method(estimator, *args, **kwargs)\n",
      "C:\\Users\\acer\\AppData\\Local\\Packages\\PythonSoftwareFoundation.Python.3.10_qbz5n2kfra8p0\\LocalCache\\local-packages\\Python310\\site-packages\\sklearn\\base.py:1151: DataConversionWarning: A column-vector y was passed when a 1d array was expected. Please change the shape of y to (n_samples,), for example using ravel().\n",
      "  return fit_method(estimator, *args, **kwargs)\n",
      "C:\\Users\\acer\\AppData\\Local\\Packages\\PythonSoftwareFoundation.Python.3.10_qbz5n2kfra8p0\\LocalCache\\local-packages\\Python310\\site-packages\\sklearn\\base.py:1151: DataConversionWarning: A column-vector y was passed when a 1d array was expected. Please change the shape of y to (n_samples,), for example using ravel().\n",
      "  return fit_method(estimator, *args, **kwargs)\n",
      "C:\\Users\\acer\\AppData\\Local\\Packages\\PythonSoftwareFoundation.Python.3.10_qbz5n2kfra8p0\\LocalCache\\local-packages\\Python310\\site-packages\\sklearn\\base.py:1151: DataConversionWarning: A column-vector y was passed when a 1d array was expected. Please change the shape of y to (n_samples,), for example using ravel().\n",
      "  return fit_method(estimator, *args, **kwargs)\n",
      "C:\\Users\\acer\\AppData\\Local\\Packages\\PythonSoftwareFoundation.Python.3.10_qbz5n2kfra8p0\\LocalCache\\local-packages\\Python310\\site-packages\\sklearn\\base.py:1151: DataConversionWarning: A column-vector y was passed when a 1d array was expected. Please change the shape of y to (n_samples,), for example using ravel().\n",
      "  return fit_method(estimator, *args, **kwargs)\n",
      "C:\\Users\\acer\\AppData\\Local\\Packages\\PythonSoftwareFoundation.Python.3.10_qbz5n2kfra8p0\\LocalCache\\local-packages\\Python310\\site-packages\\sklearn\\base.py:1151: DataConversionWarning: A column-vector y was passed when a 1d array was expected. Please change the shape of y to (n_samples,), for example using ravel().\n",
      "  return fit_method(estimator, *args, **kwargs)\n",
      "C:\\Users\\acer\\AppData\\Local\\Packages\\PythonSoftwareFoundation.Python.3.10_qbz5n2kfra8p0\\LocalCache\\local-packages\\Python310\\site-packages\\sklearn\\base.py:1151: DataConversionWarning: A column-vector y was passed when a 1d array was expected. Please change the shape of y to (n_samples,), for example using ravel().\n",
      "  return fit_method(estimator, *args, **kwargs)\n",
      "C:\\Users\\acer\\AppData\\Local\\Packages\\PythonSoftwareFoundation.Python.3.10_qbz5n2kfra8p0\\LocalCache\\local-packages\\Python310\\site-packages\\sklearn\\base.py:1151: DataConversionWarning: A column-vector y was passed when a 1d array was expected. Please change the shape of y to (n_samples,), for example using ravel().\n",
      "  return fit_method(estimator, *args, **kwargs)\n",
      "C:\\Users\\acer\\AppData\\Local\\Packages\\PythonSoftwareFoundation.Python.3.10_qbz5n2kfra8p0\\LocalCache\\local-packages\\Python310\\site-packages\\sklearn\\base.py:1151: DataConversionWarning: A column-vector y was passed when a 1d array was expected. Please change the shape of y to (n_samples,), for example using ravel().\n",
      "  return fit_method(estimator, *args, **kwargs)\n",
      "C:\\Users\\acer\\AppData\\Local\\Packages\\PythonSoftwareFoundation.Python.3.10_qbz5n2kfra8p0\\LocalCache\\local-packages\\Python310\\site-packages\\sklearn\\base.py:1151: DataConversionWarning: A column-vector y was passed when a 1d array was expected. Please change the shape of y to (n_samples,), for example using ravel().\n",
      "  return fit_method(estimator, *args, **kwargs)\n",
      "C:\\Users\\acer\\AppData\\Local\\Packages\\PythonSoftwareFoundation.Python.3.10_qbz5n2kfra8p0\\LocalCache\\local-packages\\Python310\\site-packages\\sklearn\\base.py:1151: DataConversionWarning: A column-vector y was passed when a 1d array was expected. Please change the shape of y to (n_samples,), for example using ravel().\n",
      "  return fit_method(estimator, *args, **kwargs)\n",
      "C:\\Users\\acer\\AppData\\Local\\Packages\\PythonSoftwareFoundation.Python.3.10_qbz5n2kfra8p0\\LocalCache\\local-packages\\Python310\\site-packages\\sklearn\\base.py:1151: DataConversionWarning: A column-vector y was passed when a 1d array was expected. Please change the shape of y to (n_samples,), for example using ravel().\n",
      "  return fit_method(estimator, *args, **kwargs)\n",
      "C:\\Users\\acer\\AppData\\Local\\Packages\\PythonSoftwareFoundation.Python.3.10_qbz5n2kfra8p0\\LocalCache\\local-packages\\Python310\\site-packages\\sklearn\\base.py:1151: DataConversionWarning: A column-vector y was passed when a 1d array was expected. Please change the shape of y to (n_samples,), for example using ravel().\n",
      "  return fit_method(estimator, *args, **kwargs)\n",
      "C:\\Users\\acer\\AppData\\Local\\Packages\\PythonSoftwareFoundation.Python.3.10_qbz5n2kfra8p0\\LocalCache\\local-packages\\Python310\\site-packages\\sklearn\\base.py:1151: DataConversionWarning: A column-vector y was passed when a 1d array was expected. Please change the shape of y to (n_samples,), for example using ravel().\n",
      "  return fit_method(estimator, *args, **kwargs)\n",
      "C:\\Users\\acer\\AppData\\Local\\Packages\\PythonSoftwareFoundation.Python.3.10_qbz5n2kfra8p0\\LocalCache\\local-packages\\Python310\\site-packages\\sklearn\\base.py:1151: DataConversionWarning: A column-vector y was passed when a 1d array was expected. Please change the shape of y to (n_samples,), for example using ravel().\n",
      "  return fit_method(estimator, *args, **kwargs)\n",
      "C:\\Users\\acer\\AppData\\Local\\Packages\\PythonSoftwareFoundation.Python.3.10_qbz5n2kfra8p0\\LocalCache\\local-packages\\Python310\\site-packages\\sklearn\\base.py:1151: DataConversionWarning: A column-vector y was passed when a 1d array was expected. Please change the shape of y to (n_samples,), for example using ravel().\n",
      "  return fit_method(estimator, *args, **kwargs)\n",
      "C:\\Users\\acer\\AppData\\Local\\Packages\\PythonSoftwareFoundation.Python.3.10_qbz5n2kfra8p0\\LocalCache\\local-packages\\Python310\\site-packages\\sklearn\\base.py:1151: DataConversionWarning: A column-vector y was passed when a 1d array was expected. Please change the shape of y to (n_samples,), for example using ravel().\n",
      "  return fit_method(estimator, *args, **kwargs)\n"
     ]
    },
    {
     "name": "stdout",
     "output_type": "stream",
     "text": [
      "Average MSE: 31.632918616924478\n",
      "Standard Deviation of MSE: 2.7367883131247717\n",
      "Average RMSE: -5.618185508025941\n",
      "Standard Deviation of RMSE: 0.2348296426587502\n",
      "Average R² Score: 0.1434056065783891\n",
      "Standard Deviation of R² Score: 0.039890861177052074\n",
      "Average MAE: 4.341144676979072\n",
      "Standard Deviation of MAE: 0.0882909060599209\n"
     ]
    }
   ],
   "source": [
    "from sklearn.model_selection import cross_val_score\n",
    "from sklearn.ensemble import RandomForestRegressor\n",
    "from sklearn.metrics import mean_squared_error, r2_score, mean_absolute_error,make_scorer\n",
    "\n",
    "\n",
    "X = df[Features]  \n",
    "y = df[Target] \n",
    "\n",
    "model = RandomForestRegressor()\n",
    "\n",
    "def rmse(y_true, y_pred):\n",
    "    return np.sqrt(mean_squared_error(y_true, y_pred))\n",
    "\n",
    "mse_scores = cross_val_score(model, X, y, cv=5, scoring='neg_mean_squared_error')\n",
    "rmse_scores = cross_val_score(model, X, y, cv=5, scoring=make_scorer(rmse, greater_is_better=False))\n",
    "r2_scores = cross_val_score(model, X, y, cv=5, scoring='r2')\n",
    "mae_scores = cross_val_score(model, X, y, cv=5, scoring='neg_mean_absolute_error')\n",
    "\n",
    "mse_scores = -mse_scores\n",
    "mae_scores = -mae_scores\n",
    "\n",
    "print(f\"Average MSE: {np.mean(mse_scores)}\")\n",
    "print(f\"Standard Deviation of MSE: {np.std(mse_scores)}\")\n",
    "\n",
    "print(f\"Average RMSE: {np.mean(rmse_scores)}\")\n",
    "print(f\"Standard Deviation of RMSE: {np.std(rmse_scores)}\")\n",
    "\n",
    "print(f\"Average R² Score: {np.mean(r2_scores)}\")\n",
    "print(f\"Standard Deviation of R² Score: {np.std(r2_scores)}\")\n",
    "\n",
    "print(f\"Average MAE: {np.mean(mae_scores)}\")\n",
    "print(f\"Standard Deviation of MAE: {np.std(mae_scores)}\")"
   ]
  },
  {
   "cell_type": "markdown",
   "metadata": {},
   "source": [
    "Handling outliers"
   ]
  },
  {
   "cell_type": "code",
   "execution_count": 27,
   "metadata": {},
   "outputs": [
    {
     "name": "stderr",
     "output_type": "stream",
     "text": [
      "C:\\Users\\acer\\AppData\\Local\\Temp\\ipykernel_11308\\2852293507.py:5: UserWarning: \n",
      "\n",
      "`distplot` is a deprecated function and will be removed in seaborn v0.14.0.\n",
      "\n",
      "Please adapt your code to use either `displot` (a figure-level function with\n",
      "similar flexibility) or `histplot` (an axes-level function for histograms).\n",
      "\n",
      "For a guide to updating your code to use the new functions, please see\n",
      "https://gist.github.com/mwaskom/de44147ed2974457ad6372750bbe5751\n",
      "\n",
      "  sns.distplot(df['crime_count'])\n"
     ]
    },
    {
     "data": {
      "text/plain": [
       "<Axes: xlabel='crime_count', ylabel='Density'>"
      ]
     },
     "execution_count": 27,
     "metadata": {},
     "output_type": "execute_result"
    },
    {
     "data": {
      "image/png": "[encoded data removed]",
      "text/plain": [
       "<Figure size 640x480 with 1 Axes>"
      ]
     },
     "metadata": {},
     "output_type": "display_data"
    }
   ],
   "source": [
    "# descript the total column\n",
    "df['crime_count'].describe()\n",
    "\n",
    "# distribution of total column\n",
    "sns.distplot(df['crime_count'])"
   ]
  },
  {
   "cell_type": "code",
   "execution_count": 28,
   "metadata": {},
   "outputs": [
    {
     "name": "stderr",
     "output_type": "stream",
     "text": [
      "C:\\Users\\acer\\AppData\\Local\\Temp\\ipykernel_11308\\1421430830.py:4: UserWarning: \n",
      "\n",
      "`distplot` is a deprecated function and will be removed in seaborn v0.14.0.\n",
      "\n",
      "Please adapt your code to use either `displot` (a figure-level function with\n",
      "similar flexibility) or `histplot` (an axes-level function for histograms).\n",
      "\n",
      "For a guide to updating your code to use the new functions, please see\n",
      "https://gist.github.com/mwaskom/de44147ed2974457ad6372750bbe5751\n",
      "\n",
      "  sns.distplot(df['crime_count'])\n"
     ]
    },
    {
     "data": {
      "text/plain": [
       "<Axes: xlabel='crime_count', ylabel='Density'>"
      ]
     },
     "execution_count": 28,
     "metadata": {},
     "output_type": "execute_result"
    },
    {
     "data": {
      "image/png": "[encoded data removed]",
      "text/plain": [
       "<Figure size 640x480 with 1 Axes>"
      ]
     },
     "metadata": {},
     "output_type": "display_data"
    }
   ],
   "source": [
    "df = df[np.abs(df.crime_count-df.crime_count.mean()) <= (3*df.crime_count.std())]\n",
    "\n",
    "# distribution of total column after removing outliers\n",
    "sns.distplot(df['crime_count'])"
   ]
  },
  {
   "cell_type": "code",
   "execution_count": 29,
   "metadata": {},
   "outputs": [
    {
     "name": "stdout",
     "output_type": "stream",
     "text": [
      "<class 'pandas.core.frame.DataFrame'>\n",
      "Index: 16399 entries, 20073 to 264336\n",
      "Data columns (total 6 columns):\n",
      " #   Column       Non-Null Count  Dtype\n",
      "---  ------       --------------  -----\n",
      " 0   District     16399 non-null  int64\n",
      " 1   Year         16399 non-null  int64\n",
      " 2   Month        16399 non-null  int64\n",
      " 3   Day          16399 non-null  int64\n",
      " 4   vacation     16399 non-null  bool \n",
      " 5   crime_count  16399 non-null  int64\n",
      "dtypes: bool(1), int64(5)\n",
      "memory usage: 784.7 KB\n"
     ]
    }
   ],
   "source": [
    "df.info()"
   ]
  },
  {
   "cell_type": "code",
   "execution_count": 30,
   "metadata": {},
   "outputs": [
    {
     "name": "stdout",
     "output_type": "stream",
     "text": [
      "Feature Set Used    :  ['District', 'Year', 'Month', 'Day', 'vacation']\n",
      "Target Class        :  ['crime_count']\n",
      "Training Features Set Size :  (13119, 5)\n",
      "Training Target Set Size   :  (13119, 1)\n",
      "Test Features Set Size     :  (3280, 5)\n",
      "Test Target Set Size       :  (3280, 1)\n"
     ]
    }
   ],
   "source": [
    "train_set, test_set = train_test_split(df, \n",
    "                                       test_size=0.2, \n",
    "                                       train_size=0.8, \n",
    "                                       random_state=3)\n",
    "\n",
    "train_features = train_set[Features]    # Features for training\n",
    "train_target = train_set[Target]        # Target variable for training\n",
    "test_features = test_set[Features]      # Features for testing\n",
    "test_target = test_set[Target]          # Target variable for testing\n",
    "\n",
    "print('Feature Set Used    : ', Features)\n",
    "print('Target Class        : ', Target)\n",
    "print('Training Features Set Size : ', train_features.shape)\n",
    "print('Training Target Set Size   : ', train_target.shape)\n",
    "print('Test Features Set Size     : ', test_features.shape)\n",
    "print('Test Target Set Size       : ', test_target.shape)"
   ]
  },
  {
   "cell_type": "markdown",
   "metadata": {},
   "source": [
    "Testing the models again"
   ]
  },
  {
   "cell_type": "code",
   "execution_count": 31,
   "metadata": {},
   "outputs": [
    {
     "name": "stdout",
     "output_type": "stream",
     "text": [
      "Linear Regression R^2 Score: 0.07166660321476392\n",
      "Linear Regression Mean Absolute Error: 4.503085166819293\n",
      "Mean Squared Error: 32.089077794999746\n",
      "Root Mean Squared Error: 5.664722216931714\n"
     ]
    }
   ],
   "source": [
    "from sklearn.linear_model import LinearRegression\n",
    "from sklearn.metrics import mean_squared_error\n",
    "\n",
    "lr = LinearRegression()\n",
    "lr.fit(train_features, train_target)\n",
    "\n",
    "y_pred = lr.predict(test_features)\n",
    "\n",
    "mse = mean_squared_error(test_target, y_pred)\n",
    "rmse = np.sqrt(mse)\n",
    "lr_r2 = r2_score(test_target, y_pred)\n",
    "lr_mae = mean_absolute_error(test_target, y_pred)\n",
    "\n",
    "# Print the additional metrics\n",
    "print(f\"Linear Regression R^2 Score: {lr_r2}\")\n",
    "print(f\"Linear Regression Mean Absolute Error: {lr_mae}\")\n",
    "print(f\"Mean Squared Error: {mse}\")\n",
    "print(f\"Root Mean Squared Error: {rmse}\")"
   ]
  },
  {
   "cell_type": "code",
   "execution_count": 34,
   "metadata": {},
   "outputs": [
    {
     "name": "stdout",
     "output_type": "stream",
     "text": [
      "XGBoost Mean Squared Error: 14.104137187106328\n",
      "XGBoost Root Mean Squared Error: 3.7555475216147016\n",
      "R^2 Score on Training Data: 0.5797844247142095\n",
      "Mean Absolute Error on Training Data: 2.9740809358390052\n"
     ]
    }
   ],
   "source": [
    "from xgboost import XGBRegressor\n",
    "from sklearn.metrics import r2_score, mean_absolute_error\n",
    "\n",
    "# Initialize the XGBoost Regressor model\n",
    "model = XGBRegressor()\n",
    "\n",
    "# Fit the model to the training data\n",
    "model.fit(train_features, train_target)\n",
    "\n",
    "# Predict on training data\n",
    "training_data_prediction = model.predict(train_features)\n",
    "\n",
    "# Calculate R^2 Score and Mean Absolute Error on training data\n",
    "r2 = r2_score(train_target, training_data_prediction)\n",
    "mae = mean_absolute_error(train_target, training_data_prediction)\n",
    "xgb_mse = mean_squared_error(train_target, training_data_prediction)\n",
    "xgb_rmse = np.sqrt(xgb_mse)\n",
    "\n",
    "# Print the additional metrics\n",
    "print(f\"XGBoost Mean Squared Error: {xgb_mse}\")\n",
    "print(f\"XGBoost Root Mean Squared Error: {xgb_rmse}\")\n",
    "print(f\"R^2 Score on Training Data: {r2}\")\n",
    "print(f\"Mean Absolute Error on Training Data: {mae}\")"
   ]
  },
  {
   "cell_type": "code",
   "execution_count": 33,
   "metadata": {},
   "outputs": [
    {
     "name": "stdout",
     "output_type": "stream",
     "text": [
      "XGBoost Mean Squared Error: 20.74599033626378\n",
      "XGBoost Root Mean Squared Error: 4.554776650535543\n",
      "R^2 Score on Testing Data: 0.39982084241951976\n",
      "Mean Absolute Error on Testing Data: 3.6477738969323292\n"
     ]
    }
   ],
   "source": [
    "from xgboost import XGBRegressor\n",
    "from sklearn.metrics import r2_score, mean_absolute_error\n",
    "\n",
    "# Initialize and train the XGBoost Regressor model\n",
    "model = XGBRegressor()\n",
    "model.fit(train_features, train_target)\n",
    "\n",
    "# Predict on testing data\n",
    "testing_data_prediction = model.predict(test_features)\n",
    "\n",
    "# Calculate R^2 Score and Mean Absolute Error on testing data\n",
    "r2_test = r2_score(test_target, testing_data_prediction)\n",
    "mae_test = mean_absolute_error(test_target, testing_data_prediction)\n",
    "xgb_mse = mean_squared_error(test_target, testing_data_prediction)\n",
    "xgb_rmse = np.sqrt(xgb_mse)\n",
    "\n",
    "# Print the additional metrics\n",
    "print(f\"XGBoost Mean Squared Error: {xgb_mse}\")\n",
    "print(f\"XGBoost Root Mean Squared Error: {xgb_rmse}\")\n",
    "print(f\"R^2 Score on Testing Data: {r2_test}\")\n",
    "print(f\"Mean Absolute Error on Testing Data: {mae_test}\")"
   ]
  },
  {
   "cell_type": "code",
   "execution_count": 35,
   "metadata": {},
   "outputs": [
    {
     "data": {
      "image/png": "[encoded data removed]",
      "text/plain": [
       "<Figure size 640x480 with 1 Axes>"
      ]
     },
     "metadata": {},
     "output_type": "display_data"
    }
   ],
   "source": [
    "plt.scatter(test_target, testing_data_prediction, color='blue', label='Predicted')\n",
    "plt.plot(test_target, test_target, color='red', label='Actual')  # Line of perfect prediction\n",
    "\n",
    "plt.xlabel(\"Actual Crime Counts\")\n",
    "plt.ylabel(\"Predicted Crime Counts\")\n",
    "plt.title(\"Actual Crime Counts vs Predicted Crime Counts\")\n",
    "plt.legend()\n",
    "plt.show()"
   ]
  },
  {
   "cell_type": "code",
   "execution_count": 36,
   "metadata": {},
   "outputs": [
    {
     "name": "stderr",
     "output_type": "stream",
     "text": [
      "C:\\Users\\acer\\AppData\\Local\\Packages\\PythonSoftwareFoundation.Python.3.10_qbz5n2kfra8p0\\LocalCache\\local-packages\\Python310\\site-packages\\sklearn\\base.py:1151: DataConversionWarning: A column-vector y was passed when a 1d array was expected. Please change the shape of y to (n_samples,), for example using ravel().\n",
      "  return fit_method(estimator, *args, **kwargs)\n"
     ]
    },
    {
     "name": "stdout",
     "output_type": "stream",
     "text": [
      "Mean Squared Error: 23.273205304878044\n",
      "Root Mean Squared Error: 4.824231058404857\n",
      "R^2 Score: 0.2799899344740321\n",
      "Mean Absolute Error: 3.8409878048780484\n"
     ]
    }
   ],
   "source": [
    "from sklearn.model_selection import train_test_split\n",
    "from sklearn.ensemble import RandomForestRegressor\n",
    "from sklearn.metrics import mean_squared_error, r2_score, mean_absolute_error\n",
    "import numpy as np\n",
    "\n",
    "\n",
    "X = df[Features]  \n",
    "y = df[Target] \n",
    "\n",
    "# Split the data into training and testing sets\n",
    "X_train, X_test, y_train, y_test = train_test_split(X, y, test_size=0.2, random_state=42)\n",
    "\n",
    "# Initialize the RandomForestRegressor model\n",
    "model = RandomForestRegressor()\n",
    "\n",
    "# Fit the model to the training data\n",
    "model.fit(X_train, y_train)\n",
    "\n",
    "# Predict on the test data\n",
    "y_pred = model.predict(X_test)\n",
    "\n",
    "# Calculate the evaluation metrics\n",
    "mse = mean_squared_error(y_test, y_pred)\n",
    "rmse = np.sqrt(mse)\n",
    "r2 = r2_score(y_test, y_pred)\n",
    "mae = mean_absolute_error(y_test, y_pred)\n",
    "\n",
    "# Print the metrics\n",
    "print(f\"Mean Squared Error: {mse}\")\n",
    "print(f\"Root Mean Squared Error: {rmse}\")\n",
    "print(f\"R^2 Score: {r2}\")\n",
    "print(f\"Mean Absolute Error: {mae}\")"
   ]
  },
  {
   "cell_type": "code",
   "execution_count": 37,
   "metadata": {},
   "outputs": [
    {
     "data": {
      "image/png": "[encoded data removed]",
      "text/plain": [
       "<Figure size 640x480 with 1 Axes>"
      ]
     },
     "metadata": {},
     "output_type": "display_data"
    }
   ],
   "source": [
    "plt.scatter(y_test, y_pred, color='blue', label='Predicted')\n",
    "plt.plot(y_test, y_test, color='red', label='Actual')  # Line of perfect prediction\n",
    "\n",
    "plt.xlabel(\"Actual Crime Counts\")\n",
    "plt.ylabel(\"Predicted Crime Counts\")\n",
    "plt.title(\"Actual Crime Counts vs Predicted Crime Counts\")\n",
    "plt.legend()\n",
    "plt.show()"
   ]
  }
 ],
 "metadata": {
  "kernelspec": {
   "display_name": "Python 3",
   "language": "python",
   "name": "python3"
  },
  "language_info": {
   "codemirror_mode": {
    "name": "ipython",
    "version": 3
   },
   "file_extension": ".py",
   "mimetype": "text/x-python",
   "name": "python",
   "nbconvert_exporter": "python",
   "pygments_lexer": "ipython3",
   "version": "3.10.11"
  }
 },
 "nbformat": 4,
 "nbformat_minor": 2
}
